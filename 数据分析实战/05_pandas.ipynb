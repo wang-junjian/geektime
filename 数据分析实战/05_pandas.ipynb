{
 "cells": [
  {
   "cell_type": "code",
   "execution_count": 3,
   "metadata": {},
   "outputs": [],
   "source": [
    "import pandas as pd\n",
    "from pandas import Series, DataFrame"
   ]
  },
  {
   "cell_type": "code",
   "execution_count": 13,
   "metadata": {},
   "outputs": [
    {
     "name": "stdout",
     "output_type": "stream",
     "text": [
      "0    1\n",
      "1    2\n",
      "2    3\n",
      "3    4\n",
      "dtype: int64\n",
      "RangeIndex(start=0, stop=4, step=1)\n",
      "[1 2 3 4]\n"
     ]
    }
   ],
   "source": [
    "# 使用默认index\n",
    "x1 = Series([1,2,3,4])\n",
    "print(x1)\n",
    "print(x1.index)\n",
    "print(x1.values)"
   ]
  },
  {
   "cell_type": "code",
   "execution_count": 15,
   "metadata": {},
   "outputs": [
    {
     "name": "stdout",
     "output_type": "stream",
     "text": [
      "a    1\n",
      "b    2\n",
      "c    3\n",
      "d    4\n",
      "dtype: int64\n",
      "Index(['a', 'b', 'c', 'd'], dtype='object')\n",
      "[1 2 3 4]\n"
     ]
    }
   ],
   "source": [
    "# 使用指定index\n",
    "x2 = Series(index=['a','b','c','d'], data=[1,2,3,4])\n",
    "print(x2)\n",
    "print(x2.index)\n",
    "print(x2.values)"
   ]
  },
  {
   "cell_type": "code",
   "execution_count": 16,
   "metadata": {},
   "outputs": [
    {
     "name": "stdout",
     "output_type": "stream",
     "text": [
      "a    1\n",
      "b    2\n",
      "c    3\n",
      "dtype: int64\n"
     ]
    }
   ],
   "source": [
    "# 使用字典\n",
    "d = {'a':1, 'b':2, 'c':3}\n",
    "x3 = Series(d)\n",
    "print(x3)"
   ]
  },
  {
   "cell_type": "code",
   "execution_count": 65,
   "metadata": {},
   "outputs": [
    {
     "name": "stdout",
     "output_type": "stream",
     "text": [
      "   Chinese  Math  English\n",
      "0        1     6       11\n",
      "1        2     7       12\n",
      "2        3     8       13\n",
      "3        4     9       14\n",
      "4        5    10       15\n"
     ]
    }
   ],
   "source": [
    "data = {'Chinese':[1,2,3,4,5], 'Math':[6,7,8,9,10], 'English':[11,12,13,14,15]}\n",
    "df1 = DataFrame(data)\n",
    "print(df1)"
   ]
  },
  {
   "cell_type": "code",
   "execution_count": 21,
   "metadata": {},
   "outputs": [
    {
     "name": "stdout",
     "output_type": "stream",
     "text": [
      "   English  Chinese  Math\n",
      "A       11        1     6\n",
      "B       12        2     7\n",
      "C       13        3     8\n",
      "D       14        4     9\n",
      "E       15        5    10\n"
     ]
    }
   ],
   "source": [
    "df2 = DataFrame(data, index=['A', 'B', 'C', 'D', 'E'], columns=['English', 'Chinese', 'Math'])\n",
    "print(df2)"
   ]
  },
  {
   "cell_type": "code",
   "execution_count": null,
   "metadata": {},
   "outputs": [],
   "source": [
    "# 读取和保存xlsx格式\n",
    "score = DataFrame(pd.read_excel('data.xlsx'))\n",
    "score.to_excel('data1.xlsx')\n",
    "print(score)"
   ]
  },
  {
   "cell_type": "markdown",
   "metadata": {},
   "source": [
    "## 数据清洗"
   ]
  },
  {
   "cell_type": "code",
   "execution_count": 23,
   "metadata": {},
   "outputs": [
    {
     "name": "stdout",
     "output_type": "stream",
     "text": [
      "   English  Chinese  Math\n",
      "A       11        1     6\n",
      "B       12        2     7\n",
      "C       13        3     8\n",
      "D       14        4     9\n",
      "E       15        5    10\n",
      "   Chinese  Math\n",
      "A        1     6\n",
      "B        2     7\n",
      "D        4     9\n"
     ]
    }
   ],
   "source": [
    "df = DataFrame(data, index=['A', 'B', 'C', 'D', 'E'], columns=['English', 'Chinese', 'Math'])\n",
    "print(df)\n",
    "\n",
    "# 删除行和列\n",
    "df = df.drop(index=['C', 'E'], columns=['English'])\n",
    "print(df)"
   ]
  },
  {
   "cell_type": "code",
   "execution_count": 27,
   "metadata": {},
   "outputs": [
    {
     "name": "stdout",
     "output_type": "stream",
     "text": [
      "   Chinese  Math  English\n",
      "A        1     6       11\n",
      "B        2     7       12\n",
      "C        3     8       13\n",
      "D        4     9       14\n",
      "E        5    10       15\n",
      "   Yu Wen  Shu Xue  English\n",
      "a       1        6       11\n",
      "B       2        7       12\n",
      "C       3        8       13\n",
      "D       4        9       14\n",
      "e       5       10       15\n"
     ]
    }
   ],
   "source": [
    "df = DataFrame(data, index=['A', 'B', 'C', 'D', 'E'], columns=['Chinese', 'Math', 'English'])\n",
    "print(df)\n",
    "\n",
    "# 重命名行名和列名\n",
    "df.rename(index={'A':'a', 'E':'e'}, columns={'Chinese':'Yu Wen', 'Math':'Shu Xue'}, inplace=True)\n",
    "print(df)"
   ]
  },
  {
   "cell_type": "code",
   "execution_count": 30,
   "metadata": {},
   "outputs": [
    {
     "name": "stdout",
     "output_type": "stream",
     "text": [
      "   a  b  c\n",
      "0  1  1  1\n",
      "1  1  1  1\n",
      "2  1  1  1\n",
      "   a  b  c\n",
      "0  1  1  1\n"
     ]
    }
   ],
   "source": [
    "data1 = {'a':[1,1,1], 'b':[1,1,1], 'c':[1,1,1]}\n",
    "df = DataFrame(data1)\n",
    "print(df)\n",
    "# 去重复的值\n",
    "\n",
    "df = df.drop_duplicates()\n",
    "print(df)"
   ]
  },
  {
   "cell_type": "code",
   "execution_count": 46,
   "metadata": {},
   "outputs": [
    {
     "name": "stdout",
     "output_type": "stream",
     "text": [
      "   Chinese  Math  English\n",
      "A        1     6       11\n",
      "B        2     7       12\n",
      "C        3     8       13\n",
      "D        4     9       14\n",
      "E        5    10       15\n",
      "  Chinese  Math  English\n",
      "A       1     6       11\n",
      "B       2     7       12\n",
      "C       3     8       13\n",
      "D       4     9       14\n",
      "E       5    10       15\n",
      "A    1\n",
      "B    2\n",
      "C    3\n",
      "D    4\n",
      "E    5\n",
      "Name: Chinese, dtype: object\n"
     ]
    }
   ],
   "source": [
    "import numpy as np\n",
    "\n",
    "df = DataFrame(data, index=['A', 'B', 'C', 'D', 'E'], columns=['Chinese', 'Math', 'English'])\n",
    "print(df)\n",
    "\n",
    "# 格式转换\n",
    "df['Chinese'] = df['Chinese'].astype('str')\n",
    "df['Math'] = df['Math'].astype(np.int64)\n",
    "print(df)\n",
    "print(df['Chinese'])"
   ]
  },
  {
   "cell_type": "code",
   "execution_count": 61,
   "metadata": {},
   "outputs": [
    {
     "name": "stdout",
     "output_type": "stream",
     "text": [
      "       Chinese  Math  English\n",
      "A        test      6       11\n",
      "B         test     7       12\n",
      "C     test         8       13\n",
      "D      test        9       14\n",
      "E         test    10       15\n",
      "  Chinese  Math  English\n",
      "A    test     6       11\n",
      "B    test     7       12\n",
      "C    test     8       13\n",
      "D    test     9       14\n",
      "E    test    10       15\n"
     ]
    }
   ],
   "source": [
    "data1 = {'Chinese':[' test ', '    test', 'test    ', '    test   ', 'test'], 'Math':[6,7,8,9,10], 'English':[11,12,13,14,15]}\n",
    "df = DataFrame(data1, index=['A', 'B', 'C', 'D', 'E'], columns=['Chinese', 'Math', 'English'])\n",
    "print(df)\n",
    "\n",
    "# 删除左右两边空格\n",
    "df['Chinese']=df['Chinese'].map(str.strip)\n",
    "# 删除左边空格\n",
    "df['Chinese']=df['Chinese'].map(str.lstrip)\n",
    "# 删除右边空格\n",
    "df['Chinese']=df['Chinese'].map(str.rstrip)\n",
    "\n",
    "print(df)"
   ]
  },
  {
   "cell_type": "code",
   "execution_count": 59,
   "metadata": {},
   "outputs": [
    {
     "name": "stdout",
     "output_type": "stream",
     "text": [
      "  Chinese  Math  English\n",
      "A       s     6       11\n",
      "B       s     7       12\n",
      "C       s     8       13\n",
      "D       s     9       14\n",
      "E       s    10       15\n"
     ]
    }
   ],
   "source": [
    "# 删除字符\n",
    "df['Chinese']=df['Chinese'].str.strip('et')\n",
    "print(df)"
   ]
  },
  {
   "cell_type": "code",
   "execution_count": 68,
   "metadata": {},
   "outputs": [
    {
     "name": "stdout",
     "output_type": "stream",
     "text": [
      "   Chinese  Math  English\n",
      "A        1     6       11\n",
      "B        2     7       12\n",
      "C        3     8       13\n",
      "D        4     9       14\n",
      "E        5    10       15\n",
      "   CHINESE  MATH  ENGLISH\n",
      "A        1     6       11\n",
      "B        2     7       12\n",
      "C        3     8       13\n",
      "D        4     9       14\n",
      "E        5    10       15\n",
      "   chinese  math  english\n",
      "A        1     6       11\n",
      "B        2     7       12\n",
      "C        3     8       13\n",
      "D        4     9       14\n",
      "E        5    10       15\n",
      "   Chinese  Math  English\n",
      "A        1     6       11\n",
      "B        2     7       12\n",
      "C        3     8       13\n",
      "D        4     9       14\n",
      "E        5    10       15\n"
     ]
    }
   ],
   "source": [
    "df = DataFrame(data, index=['A', 'B', 'C', 'D', 'E'], columns=['Chinese', 'Math', 'English'])\n",
    "print(df)\n",
    "\n",
    "df.columns = df.columns.str.upper()\n",
    "print(df)\n",
    "\n",
    "df.columns = df.columns.str.lower()\n",
    "print(df)\n",
    "\n",
    "df.columns = df.columns.str.title()\n",
    "print(df)"
   ]
  },
  {
   "cell_type": "code",
   "execution_count": 76,
   "metadata": {},
   "outputs": [
    {
     "name": "stdout",
     "output_type": "stream",
     "text": [
      "   Chinese  Math\n",
      "0      NaN     3\n",
      "1      2.0     4\n",
      "   Chinese   Math\n",
      "0     True  False\n",
      "1    False  False\n",
      "Chinese     True\n",
      "Math       False\n",
      "dtype: bool\n"
     ]
    }
   ],
   "source": [
    "# 判断NaN值\n",
    "data1 = {'Chinese':[np.nan,2], 'Math':[3,4]}\n",
    "df = DataFrame(data1)\n",
    "print(df)\n",
    "\n",
    "# 哪个值存在空值\n",
    "print(df.isnull())\n",
    "\n",
    "# 哪列存在空值\n",
    "print(df.isnull().any())"
   ]
  },
  {
   "cell_type": "code",
   "execution_count": 86,
   "metadata": {},
   "outputs": [
    {
     "name": "stdout",
     "output_type": "stream",
     "text": [
      "   Chinese  Math\n",
      "0        1     3\n",
      "1        2     4\n",
      "0    4\n",
      "1    6\n",
      "dtype: int64\n",
      "   Chinese  Math\n",
      "0        2     3\n",
      "1        4     4\n",
      "   Chinese  Math\n",
      "0        2     3\n",
      "1        4     4\n",
      "   语文  英语  new1  new2\n",
      "0   1   3    12     8\n",
      "1   2   4    18    12\n"
     ]
    }
   ],
   "source": [
    "data1 = {'Chinese':[1,2], 'Math':[3,4]}\n",
    "df = DataFrame(data1)\n",
    "print(df)\n",
    "\n",
    "def total(df):\n",
    "    return df['Chinese'] + df['Math']\n",
    "\n",
    "print(df.apply(total, axis=1))\n",
    "\n",
    "def double_df(x):\n",
    "    return 2*x\n",
    "df['Chinese'] = df['Chinese'].apply(double_df)\n",
    "print(df)\n",
    "\n",
    "\n",
    "data1 = {'语文':[1,2], '英语':[3,4]}\n",
    "df1 = DataFrame(data1)\n",
    "print(df)\n",
    "def plus(df,n,m):\n",
    "    df['new1'] = (df['语文']+df['英语']) * m\n",
    "    df['new2'] = (df['语文']+df['英语']) * n\n",
    "    return df\n",
    "df1 = df1.apply(plus,axis=1,args=(2,3,))\n",
    "print(df1)"
   ]
  },
  {
   "cell_type": "code",
   "execution_count": 98,
   "metadata": {
    "scrolled": true
   },
   "outputs": [
    {
     "name": "stdout",
     "output_type": "stream",
     "text": [
      "   Chinese  Math  English\n",
      "0        1     6       11\n",
      "1        2     7       12\n",
      "2        3     8       13\n",
      "3        4     9       14\n",
      "4        5    10       15\n",
      "\n",
      "count: \n",
      " Chinese    5\n",
      "Math       5\n",
      "English    5\n",
      "dtype: int64\n",
      "\n",
      "describe: \n",
      "         Chinese       Math    English\n",
      "count  5.000000   5.000000   5.000000\n",
      "mean   3.000000   8.000000  13.000000\n",
      "std    1.581139   1.581139   1.581139\n",
      "min    1.000000   6.000000  11.000000\n",
      "25%    2.000000   7.000000  12.000000\n",
      "50%    3.000000   8.000000  13.000000\n",
      "75%    4.000000   9.000000  14.000000\n",
      "max    5.000000  10.000000  15.000000\n",
      "\n",
      "idxmax: \n",
      " Chinese    4\n",
      "Math       4\n",
      "English    4\n",
      "dtype: int64\n"
     ]
    }
   ],
   "source": [
    "df = DataFrame(data)\n",
    "print(df)\n",
    "print('\\ncount: \\n', df.count())\n",
    "print('\\ndescribe: \\n', df.describe())\n",
    "print('\\nidxmax: \\n', df.idxmax())"
   ]
  },
  {
   "cell_type": "markdown",
   "metadata": {},
   "source": [
    "## 数据合并"
   ]
  },
  {
   "cell_type": "code",
   "execution_count": 100,
   "metadata": {},
   "outputs": [
    {
     "name": "stdout",
     "output_type": "stream",
     "text": [
      "       name  data1  data2\n",
      "0  ZhangFei      0      0\n",
      "1    GuanYu      1      1\n",
      "       name  data1  data2\n",
      "0  ZhangFei      0      0\n",
      "1    GuanYu      1      1\n"
     ]
    }
   ],
   "source": [
    "# inner 内连接，默认连接　求交集\n",
    "df1 = DataFrame({'name':['ZhangFei', 'GuanYu', 'a', 'b', 'c'], 'data1':range(5)})\n",
    "df2 = DataFrame({'name':['ZhangFei', 'GuanYu', 'A', 'B', 'C'], 'data2':range(5)})\n",
    "df3 = pd.merge(df1, df2, on='name')\n",
    "print(df3)\n",
    "\n",
    "df3 = pd.merge(df1, df2, how='inner')\n",
    "print(df3)"
   ]
  },
  {
   "cell_type": "code",
   "execution_count": 101,
   "metadata": {},
   "outputs": [
    {
     "name": "stdout",
     "output_type": "stream",
     "text": [
      "       name  data1  data2\n",
      "0  ZhangFei      0    0.0\n",
      "1    GuanYu      1    1.0\n",
      "2         a      2    NaN\n",
      "3         b      3    NaN\n",
      "4         c      4    NaN\n"
     ]
    }
   ],
   "source": [
    "# left 左连接\n",
    "df3 = pd.merge(df1, df2, how='left')\n",
    "print(df3)"
   ]
  },
  {
   "cell_type": "code",
   "execution_count": 102,
   "metadata": {},
   "outputs": [
    {
     "name": "stdout",
     "output_type": "stream",
     "text": [
      "       name  data1  data2\n",
      "0  ZhangFei    0.0      0\n",
      "1    GuanYu    1.0      1\n",
      "2         A    NaN      2\n",
      "3         B    NaN      3\n",
      "4         C    NaN      4\n"
     ]
    }
   ],
   "source": [
    "# right 右连接\n",
    "df3 = pd.merge(df1, df2, how='right')\n",
    "print(df3)"
   ]
  },
  {
   "cell_type": "code",
   "execution_count": 103,
   "metadata": {},
   "outputs": [
    {
     "name": "stdout",
     "output_type": "stream",
     "text": [
      "       name  data1  data2\n",
      "0  ZhangFei    0.0    0.0\n",
      "1    GuanYu    1.0    1.0\n",
      "2         a    2.0    NaN\n",
      "3         b    3.0    NaN\n",
      "4         c    4.0    NaN\n",
      "5         A    NaN    2.0\n",
      "6         B    NaN    3.0\n",
      "7         C    NaN    4.0\n"
     ]
    }
   ],
   "source": [
    "# outer 外连接　求并集\n",
    "df3 = pd.merge(df1, df2, how='outer')\n",
    "print(df3)"
   ]
  },
  {
   "cell_type": "code",
   "execution_count": 104,
   "metadata": {},
   "outputs": [
    {
     "name": "stdout",
     "output_type": "stream",
     "text": [
      "       name  data1\n",
      "0  ZhangFei      0\n"
     ]
    }
   ],
   "source": [
    "#SQL\n",
    "import pandas as pd\n",
    "from pandas import DataFrame\n",
    "from pandasql import sqldf, load_meat, load_births\n",
    "df1 = DataFrame({'name':['ZhangFei', 'GuanYu', 'a', 'b', 'c'], 'data1':range(5)})\n",
    "pysqldf = lambda sql: sqldf(sql, globals())\n",
    "sql = \"select * from df1 where name ='ZhangFei'\"\n",
    "print(pysqldf(sql))"
   ]
  }
 ],
 "metadata": {
  "kernelspec": {
   "display_name": "Python 3",
   "language": "python",
   "name": "python3"
  },
  "language_info": {
   "codemirror_mode": {
    "name": "ipython",
    "version": 3
   },
   "file_extension": ".py",
   "mimetype": "text/x-python",
   "name": "python",
   "nbconvert_exporter": "python",
   "pygments_lexer": "ipython3",
   "version": "3.7.0"
  }
 },
 "nbformat": 4,
 "nbformat_minor": 2
}
