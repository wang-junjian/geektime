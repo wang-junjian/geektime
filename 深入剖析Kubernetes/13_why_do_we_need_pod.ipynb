{
 "cells": [
  {
   "cell_type": "markdown",
   "metadata": {},
   "source": [
    "## [为什么我们需要Pod？](https://time.geekbang.org/column/article/40092)"
   ]
  },
  {
   "cell_type": "markdown",
   "metadata": {},
   "source": [
    "### 列出当前系统中正在运行的进程的树状结构\n",
    "\n",
    "```bash\n",
    "$ pstree -g\n",
    "systemd(1)─┬─ModemManager(1406)─┬─{ModemManager}(1406)\n",
    "           │                    └─{ModemManager}(1406)\n",
    "           ├─NetworkManager(1404)─┬─{NetworkManager}(1404)\n",
    "           │                      └─{NetworkManager}(1404)\n",
    "           ├─accounts-daemon(1388)─┬─{accounts-daemon}(1388)\n",
    "           │                       └─{accounts-daemon}(1388)\n",
    "           ├─acpid(1440)\n",
    "           ├─avahi-daemon(29037)───avahi-daemon(29037)\n",
    "           ├─boltd(2931)─┬─{boltd}(2931)\n",
    "           │             └─{boltd}(2931)\n",
    "           ├─colord(3044)─┬─{colord}(3044)\n",
    "           │              └─{colord}(3044)\n",
    "           ├─cron(1447)\n",
    "           ├─cups-browsed(38085)─┬─{cups-browsed}(38085)\n",
    "           │                     └─{cups-browsed}(38085)\n",
    "           ├─cupsd(38080)\n",
    "           ├─dbus-daemon(1390)\n",
    "           ├─dockerd(2318)─┬─docker-containe(2416)─┬─docker-containe(6900)─┬─pause(6928)\n",
    "           │               │                       │                       ├─{docker-containe}(6900)\n",
    "           │               │                       │                       ├─{docker-containe}(6900)\n",
    "           │               │                       │                       ├─{docker-containe}(6900)\n",
    "           │               │                       │                       ├─{docker-containe}(6900)\n",
    "           │               │                       │                       ├─{docker-containe}(6900)\n",
    "           │               │                       │                       ├─{docker-containe}(6900)\n",
    "           │               │                       │                       ├─{docker-containe}(6900)\n",
    "           │               │                       │                       ├─{docker-containe}(6900)\n",
    "           │               │                       │                       └─{docker-containe}(6900)\n",
    "           │               │                       ├─docker-containe(13892)─┬─pause(13946)\n",
    "           │               │                       │                        ├─{docker-containe}(13892)\n",
    "           │               │                       │                        ├─{docker-containe}(13892)\n",
    "           │               │                       │                        ├─{docker-containe}(13892)\n",
    "           │               │                       │                        ├─{docker-containe}(13892)\n",
    "           │               │                       │                        ├─{docker-containe}(13892)\n",
    "           │               │                       │                        ├─{docker-containe}(13892)\n",
    "           │               │                       │                        ├─{docker-containe}(13892)\n",
    "           │               │                       │                        ├─{docker-containe}(13892)\n",
    "           │               │                       │                        └─{docker-containe}(13892)\n",
    "           │               │                       ├─docker-containe(14168)─┬─nginx(14194)───nginx(14194)\n",
    "           │               │                       │                        ├─{docker-containe}(14168)\n",
    "           │               │                       │                        ├─{docker-containe}(14168)\n",
    "           │               │                       │                        ├─{docker-containe}(14168)\n",
    "           │               │                       │                        ├─{docker-containe}(14168)\n",
    "           │               │                       │                        ├─{docker-containe}(14168)\n",
    "           │               │                       │                        ├─{docker-containe}(14168)\n",
    "           │               │                       │                        ├─{docker-containe}(14168)\n",
    "           │               │                       │                        ├─{docker-containe}(14168)\n",
    "           │               │                       │                        └─{docker-containe}(14168)\n",
    "            ...\n",
    "```"
   ]
  },
  {
   "cell_type": "markdown",
   "metadata": {},
   "source": [
    "### 资源调度\n",
    "* Mesos 中就有一个资源囤积（resource hoarding）的机制，会在所有设置了 Affinity 约束的任务都达到时，才开始对它们统一进行调度。\n",
    "* Google Omega 论文中，则提出了使用乐观调度处理冲突的方法，即：先不管这些冲突，而是通过精心设计的回滚机制在出现了冲突之后解决问题。\n",
    "* Kubernetes 中 Pod 是原子调度单位。这就意味着，Kubernetes 项目的调度器，是统一按照 Pod 而非容器的资源需求进行计算的。"
   ]
  },
  {
   "cell_type": "markdown",
   "metadata": {},
   "source": [
    "### Pod 实现原理\n",
    "\n",
    "* Pod，其实是一组共享了某些资源的容器。Pod 里的所有容器，共享的是同一个 Network Namespace，并且可以声明共享同一个 Volume。\n",
    "\n",
    "* 在 Docker 中容器共享 Network 和 Volume。\n",
    "\n",
    "```bash\n",
    "$ docker run --net=B --volumes-from=B --name=A image-A\n",
    "```\n",
    "\n",
    "* 在这个 Pod 中，Infra 容器永远都是第一个被创建的容器，而其他用户定义的容器，则通过 Join Network Namespace 的方式，与 Infra 容器关联在一起。\n",
    "![](images/13_container_relationship_in_pod.png)\n",
    "\n",
    "* 将来如果你要为 Kubernetes 开发一个网络插件时，应该重点考虑的是如何配置这个 Pod 的 Network Namespace，而不是每一个用户容器如何使用你的网络配置，这是没有意义的。\n",
    "\n",
    "* 创建一个Pod中两个容器（Ubuntu 和 Nginx），共享一个 Volume。\n",
    "\n",
    "```bash\n",
    "$ nano ubuntu_and_nginx_share_volume.yaml\n",
    "```\n",
    "\n",
    "```yaml\n",
    "apiVersion: v1\n",
    "kind: Pod\n",
    "metadata:\n",
    "  name: ubuntu-and-nginx-share-volume\n",
    "spec:\n",
    "  restartPolicy: Never\n",
    "  volumes:\n",
    "  - name: shared-data\n",
    "    hostPath:      \n",
    "      path: /var/data\n",
    "  containers:\n",
    "  - name: nginx-container\n",
    "    image: nginx\n",
    "    volumeMounts:\n",
    "    - name: shared-data\n",
    "      mountPath: /usr/share/nginx/html\n",
    "  - name: ubuntu-container\n",
    "    image: ubuntu\n",
    "    volumeMounts:\n",
    "    - name: shared-data\n",
    "      mountPath: /pod-data\n",
    "    command: [\"/bin/sh\"]\n",
    "    args: [\"-c\", \"echo Hello from the ubuntu container > /pod-data/index.html\"]\n",
    "```\n",
    "\n",
    "```bash\n",
    "$ kubectl apply -f ubuntu_and_nginx_share_volume.yaml\n",
    "```"
   ]
  },
  {
   "cell_type": "markdown",
   "metadata": {},
   "source": [
    "## 容器设计模式"
   ]
  },
  {
   "cell_type": "markdown",
   "metadata": {},
   "source": [
    "### 第一个最典型的例子是：解藕 WAR 包与 Web 服务器。\n",
    "\n",
    "```yaml\n",
    "apiVersion: v1\n",
    "kind: Pod\n",
    "metadata:\n",
    "  name: javaweb-2\n",
    "spec:\n",
    "  initContainers:\n",
    "  - image: geektime/sample:v2\n",
    "    name: war\n",
    "    command: [\"cp\", \"/sample.war\", \"/app\"]\n",
    "    volumeMounts:\n",
    "    - mountPath: /app\n",
    "      name: app-volume\n",
    "  containers:\n",
    "  - image: geektime/tomcat:7.0\n",
    "    name: tomcat\n",
    "    command: [\"sh\",\"-c\",\"/root/apache-tomcat-7.0.42-v2/bin/start.sh\"]\n",
    "    volumeMounts:\n",
    "    - mountPath: /root/apache-tomcat-7.0.42-v2/webapps\n",
    "      name: app-volume\n",
    "    ports:\n",
    "    - containerPort: 8080\n",
    "      hostPort: 8001 \n",
    "  volumes:\n",
    "  - name: app-volume\n",
    "    emptyDir: {}\n",
    "```\n",
    "\n",
    "* 在 Pod 中，所有 Init Container 定义的容器，都会比 spec.containers 定义的用户容器先启动。Init Container 容器会按顺序逐一启动，而直到它们都启动并且退出了，用户容器才会启动。\n",
    "\n",
    "* 实际上，这个所谓的“组合”操作，正是容器设计模式里**最常用的一种模式**，它的名字叫：**sidecar**。"
   ]
  },
  {
   "cell_type": "markdown",
   "metadata": {},
   "source": [
    "### 第二个例子，容器的日志收集。\n",
    "\n",
    "```txt\n",
    "我现在有一个应用，需要不断地把日志文件输出到容器的 /var/log 目录中。\n",
    "这时，我就可以把一个 Pod 里的 Volume 挂载到应用容器的 /var/log 目录上。\n",
    "然后，我在这个 Pod 里同时运行一个 sidecar 容器，它也声明挂载同一个 Volume 到自己的 /var/log 目录上。\n",
    "这样，接下来 sidecar 容器就只需要做一件事儿，那就是不断地从自己的 /var/log 目录里读取日志文件，转发到 MongoDB 或者 Elasticsearch 中存储起来。这样，一个最基本的日志收集工作就完成了。\n",
    "```\n",
    "\n",
    "* Istio 项目使用 sidecar 容器完成微服务治理。"
   ]
  },
  {
   "cell_type": "markdown",
   "metadata": {},
   "source": [
    "### 总结\n",
    "\n",
    "```txt\n",
    "一个容器永远只能管理一个进程。更确切地说，一个容器，就是一个进程。\n",
    "Pod 的本质：Pod，实际上是在扮演传统基础设施里“虚拟机”的角色；而容器，则是这个虚拟机里运行的用户程序。\n",
    "当你需要把一个运行在虚拟机里的应用迁移到 Docker 容器中时，一定要仔细分析到底有哪些进程（组件）运行在这个虚拟机里。然后，你就可以把整个虚拟机想象成为一个 Pod，把这些进程分别做成容器镜像，把有顺序关系的容器，定义为 Init Container。这才是更加合理的、松耦合的容器编排诀窍，也是从传统应用架构，到“微服务架构”最自然的过渡方式。\n",
    "```"
   ]
  },
  {
   "cell_type": "markdown",
   "metadata": {},
   "source": [
    "### 参考资料\n",
    "* [Borg、Omega和Kubernetes：谷歌十几年来从这三个容器管理系统中得到的经验教训](http://dockone.io/article/1153)\n",
    "* [Design Patterns for Container-based Distributed Systems](https://www.usenix.org/conference/hotcloud16/workshop-program/presentation/burns)\n",
    "* [基于容器的分布式系统的设计模式](http://dockone.io/article/1547)\n",
    "* [基于容器的分布式系统的设计模式](https://zhuanlan.zhihu.com/p/34552109)\n",
    "* [分布式系统设计介绍](https://zhuanlan.zhihu.com/p/34145849)\n",
    "* [如何在 K8S 之上架构更高可用的应用](https://zhuanlan.zhihu.com/p/42884367)\n",
    "* [K8s 容器设计模式实践，分散收集模式](https://www.infoq.cn/article/kubernetes-and-cloud-native-applications-part07)"
   ]
  }
 ],
 "metadata": {
  "kernelspec": {
   "display_name": "Python 3",
   "language": "python",
   "name": "python3"
  },
  "language_info": {
   "codemirror_mode": {
    "name": "ipython",
    "version": 3
   },
   "file_extension": ".py",
   "mimetype": "text/x-python",
   "name": "python",
   "nbconvert_exporter": "python",
   "pygments_lexer": "ipython3",
   "version": "3.7.0"
  }
 },
 "nbformat": 4,
 "nbformat_minor": 2
}
